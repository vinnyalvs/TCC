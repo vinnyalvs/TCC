{
 "cells": [
  {
   "cell_type": "code",
   "execution_count": 10,
   "metadata": {
    "colab": {},
    "colab_type": "code",
    "id": "l6-bytsCNeda"
   },
   "outputs": [],
   "source": [
    "import pandas as pd\n",
    "import numpy as np\n",
    "import matplotlib.pyplot as plt\n",
    "import seaborn as sns"
   ]
  },
  {
   "cell_type": "code",
   "execution_count": 11,
   "metadata": {
    "colab": {},
    "colab_type": "code",
    "id": "aUnsiKOTNedk"
   },
   "outputs": [],
   "source": [
    "#data = pd.read_csv('MICRODADOS_ENEM_ESCOLA.csv',sep=';',encoding='latin1',low_memory=False)\n",
    "#newData = data[data['CO_UF_ESCOLA'] == 31]\n",
    "#newData.to_csv(\"escolasMG.csv\", encoding='latin1', index=False,sep=';')\n"
   ]
  },
  {
   "cell_type": "code",
   "execution_count": 12,
   "metadata": {
    "colab": {},
    "colab_type": "code",
    "id": "B4eEMtnINedo"
   },
   "outputs": [],
   "source": [
    "path = \"C:\\\\Users\\\\vinic\\\\Documents\\\\GitHub\\\\Enem\\\\2019\\\\Dados\\\\MICRODADOS_ENEM_2019.csv\""
   ]
  },
  {
   "cell_type": "code",
   "execution_count": 13,
   "metadata": {
    "colab": {},
    "colab_type": "code",
    "id": "awgDHANeNeeK",
    "scrolled": true
   },
   "outputs": [],
   "source": [
    "import pandas as pd\n",
    "import numpy as np\n",
    "import matplotlib.pyplot as plt\n",
    "use_cols = [\"NU_INSCRICAO\",\"CO_UF_ESC\", \"Q001\",\"Q002\",\"Q003\",\"Q004\",\"Q005\",\"Q006\",\"Q007\",\"Q008\",\"Q009\",\"Q010\",\"Q011\",\"Q012\",\"Q013\",\"Q014\",\"Q015\",\"Q016\",\"Q017\",\"Q018\",\"Q019\",\"Q020\",\"Q021\",\"Q022\",\"Q023\",\"Q024\",\"Q025\"]\n",
    "data_iterator = pd.read_csv(path,sep=';',encoding='latin1',low_memory=False, usecols=use_cols)\n",
    "chunk_list = []  \n",
    "\n",
    "# # Each chunk is in dataframe format\n",
    "# for data_chunk in data_iterator:  \n",
    "#    # filtered_chunk =  chunk_preprocessing(data_chunk)\n",
    "#     chunk_list.append(data_chunk)\n",
    "    \n",
    "# filtered_data = pd.concat(chunk_list)\n",
    "filtered_data = data_iterator"
   ]
  },
  {
   "cell_type": "code",
   "execution_count": 15,
   "metadata": {},
   "outputs": [],
   "source": [
    "dados = filtered_data[filtered_data['CO_UF_ESC'].between(11, 53, inclusive=True)]"
   ]
  },
  {
   "cell_type": "code",
   "execution_count": 16,
   "metadata": {
    "colab": {},
    "colab_type": "code",
    "id": "T5ku0rp3NeeX"
   },
   "outputs": [],
   "source": [
    "dados.to_csv(\"Brasil/QuestionarioPorAlunoBrasil2019.csv\", encoding='latin1', index=False,sep=';')"
   ]
  },
  {
   "cell_type": "code",
   "execution_count": 7,
   "metadata": {
    "colab": {},
    "colab_type": "code",
    "id": "x83uZ_q_Neea"
   },
   "outputs": [],
   "source": [
    "import pandas as pd\n",
    "import numpy as np\n",
    "import matplotlib.pyplot as plt\n",
    "use_cols = [\"NU_INSCRICAO\",\"CO_UF_ESC\",\"CO_MUNICIPIO_ESC\",\"NU_IDADE\",\"TP_SEXO\",\"TP_COR_RACA\",\"CO_ESCOLA\",\"SG_UF_ESC\",\"NO_MUNICIPIO_ESC\",\"TP_ENSINO\",\"TP_DEPENDENCIA_ADM_ESC\",\"TP_LOCALIZACAO_ESC\"]\n",
    "data_iterator = pd.read_csv(path,sep=';',encoding='latin1',low_memory=False, usecols=use_cols)\n",
    "chunk_list = []  \n",
    "\n",
    "# # Each chunk is in dataframe format\n",
    "# for data_chunk in data_iterator:  \n",
    "#    # filtered_chunk =  chunk_preprocessing(data_chunk)\n",
    "#     chunk_list.append(data_chunk)\n",
    "    \n",
    "# filtered_data = pd.concat(chunk_list)\n",
    "\n",
    "filtered_data = data_iterator\n"
   ]
  },
  {
   "cell_type": "code",
   "execution_count": 8,
   "metadata": {
    "colab": {},
    "colab_type": "code",
    "id": "Xtf5zcWwNeei"
   },
   "outputs": [],
   "source": [
    "dados = filtered_data[filtered_data['CO_UF_ESC'].between(11, 53, inclusive=True)]\n",
    "dados.to_csv(\"Brasil/Escola&AlunoBrasil2019.csv\", encoding='latin1', index=False,sep=';')"
   ]
  },
  {
   "cell_type": "code",
   "execution_count": 9,
   "metadata": {
    "colab": {},
    "colab_type": "code",
    "id": "JpJlNx_5Neen"
   },
   "outputs": [],
   "source": [
    "import pandas as pd\n",
    "import numpy as np\n",
    "import matplotlib.pyplot as plt\n",
    "use_cols = [\"NU_INSCRICAO\", \"TP_LINGUA\", \"CO_UF_ESC\",\"NU_NOTA_CN\" , \"NU_NOTA_CH\" , \"NU_NOTA_LC\" , \"NU_NOTA_MT\" , \"NU_NOTA_REDACAO\"]\n",
    "data_iterator = pd.read_csv(path,sep=';',encoding='latin1',low_memory=False, usecols=use_cols)\n",
    "chunk_list = []  \n",
    "\n",
    "# # Each chunk is in dataframe format\n",
    "# for data_chunk in data_iterator:  \n",
    "#    # filtered_chunk =  chunk_preprocessing(data_chunk)\n",
    "#     chunk_list.append(data_chunk)\n",
    "    \n",
    "filtered_data = data_iterator\n",
    " \n",
    "\n",
    "dados = filtered_data[filtered_data['CO_UF_ESC'].between(11, 53, inclusive=True)]\n",
    "dados.to_csv(\"Brasil/Lingua&NotasBrasil.csv\", encoding='latin1', index=False,sep=';')\n",
    "\n"
   ]
  },
  {
   "cell_type": "code",
   "execution_count": 17,
   "metadata": {
    "colab": {},
    "colab_type": "code",
    "id": "FST446ZoNeey"
   },
   "outputs": [],
   "source": [
    "import pandas as pd\n",
    "import numpy as np\n",
    "import matplotlib.pyplot as plt\n",
    "data_1 = pd.read_csv('Brasil/QuestionarioPorAlunoBrasil2019.csv',sep=';',encoding='latin1',low_memory=False)\n",
    "data_2 = pd.read_csv('Brasil/Escola&AlunoBrasil2019.csv',sep=';',encoding='latin1',low_memory=False)\n",
    "data_3 = pd.read_csv('Brasil/Lingua&NotasBrasil.csv',sep=';',encoding='latin1',low_memory=False)\n",
    "\n",
    "df = data_1.merge(data_2,on='NU_INSCRICAO')\n",
    "dataset = df.merge(data_3,on='NU_INSCRICAO')\n",
    "\n",
    "dataset.to_csv(\"Brasil/MicroDados2019Brasil.csv\", encoding='latin1', index=False,sep=';')"
   ]
  },
  {
   "cell_type": "code",
   "execution_count": 4,
   "metadata": {},
   "outputs": [],
   "source": [
    "dataset = pd.read_csv('Brasil/MicroDados2019Brasil.csv',sep=';',encoding='latin1',low_memory=False)\n"
   ]
  },
  {
   "cell_type": "code",
   "execution_count": 34,
   "metadata": {},
   "outputs": [
    {
     "data": {
      "text/plain": [
       "(1147412, 45)"
      ]
     },
     "execution_count": 34,
     "metadata": {},
     "output_type": "execute_result"
    }
   ],
   "source": [
    "dataset.shape"
   ]
  },
  {
   "cell_type": "code",
   "execution_count": 26,
   "metadata": {},
   "outputs": [],
   "source": [
    "dadosTratados = dataset.dropna()\n",
    "dadosTratados = dadosTratados.drop(['TP_ENSINO'], axis=1)\n",
    "dadosTratados = dadosTratados.drop(['CO_UF_ESC_x'], axis=1)\n",
    "dadosTratados = dadosTratados.drop(['CO_UF_ESC_y'], axis=1)\n",
    "# dadosTratados = dadosTratados.drop(['NU_INSCRICAO'], axis=1)\n",
    "dadosTratados.to_csv(\"Brasil/MicrodadosBrasilTratado2019.csv\", encoding='latin1', index=False,sep=';')"
   ]
  },
  {
   "cell_type": "code",
   "execution_count": 29,
   "metadata": {
    "colab": {},
    "colab_type": "code",
    "id": "xn2C3z7WNefD",
    "outputId": "e1eb8a81-a1b9-4f0b-bd0e-34ea9721635a"
   },
   "outputs": [],
   "source": [
    "dadosTratados[\"RendaMaxima\"] = dadosTratados[\"Q006\"]\n",
    "dadosTratados[\"ClasseSocial\"] = dadosTratados[\"Q006\"]\n",
    "var = \"ClasseSocial\"\n",
    "dadosTratados[var].replace(to_replace =['A','B','C','D'], value =\"0\",inplace=True) \n",
    "dadosTratados[var].replace(to_replace =['E','F','G'],value =\"1\",inplace=True) \n",
    "dadosTratados[var].replace(to_replace =['H','I','J','K','L','M'], value =\"C\",inplace=True) \n",
    "dadosTratados[var].replace(to_replace =['N','O','P'], value =\"B\",inplace=True) \n",
    "dadosTratados[var].replace(to_replace =['Q'], value =\"A\",inplace=True) \n",
    "dadosTratados[var].replace(to_replace =['0'], value =\"E\",inplace=True) \n",
    "dadosTratados[var].replace(to_replace =['1'], value =\"D\",inplace=True) \n",
    "var = \"RendaMaxima\" \n",
    "dadosTratados[var].replace(to_replace =['A'], value =0,inplace=True) \n",
    "dadosTratados[var].replace(to_replace =['B'], value =998,inplace=True) \n",
    "dadosTratados[var].replace(to_replace =['C'], value =1497,inplace=True) \n",
    "dadosTratados[var].replace(to_replace =['D'], value =1996,inplace=True)\n",
    "dadosTratados[var].replace(to_replace =['E'], value =2495,inplace=True) \n",
    "dadosTratados[var].replace(to_replace =['F'], value =2994,inplace=True) \n",
    "dadosTratados[var].replace(to_replace =['G'], value =3992,inplace=True) \n",
    "dadosTratados[var].replace(to_replace =['H'], value =4990,inplace=True) \n",
    "dadosTratados[var].replace(to_replace =['I'], value =5988,inplace=True) \n",
    "dadosTratados[var].replace(to_replace =['J'], value =6986,inplace=True) \n",
    "dadosTratados[var].replace(to_replace =['K'], value =7984,inplace=True) \n",
    "dadosTratados[var].replace(to_replace =['L'], value =8982,inplace=True) \n",
    "dadosTratados[var].replace(to_replace =['M'], value =9980,inplace=True) \n",
    "dadosTratados[var].replace(to_replace =['N'], value =11976,inplace=True) \n",
    "dadosTratados[var].replace(to_replace =['O'], value =14970,inplace=True) \n",
    "dadosTratados[var].replace(to_replace =['P','Q'], value =19960,inplace=True) \n",
    "\n",
    "dadosTratados = dadosTratados.drop(['Q006'], axis=1)\n",
    "\n",
    "\n",
    "\n",
    "var = 'TP_DEPENDENCIA_ADM_ESC'\n",
    "dadosTratados[var].replace(to_replace =[1.0], \n",
    "                 value ='Federal',inplace=True) #Federal\n",
    "dadosTratados[var].replace(to_replace =[2.0], \n",
    "                 value ='Estadual',inplace=True) #Estadual\n",
    "dadosTratados[var].replace(to_replace =[3.0], \n",
    "                 value ='Municipal',inplace=True) #Municipal\n",
    "dadosTratados[var].replace(to_replace =[4.0], \n",
    "                 value ='Particular',inplace=True) #Particular\n",
    "\n",
    "\n",
    "var = 'Q025'\n",
    "dadosTratados[var].replace(to_replace =['A'], \n",
    "                 value =\"Nao\",inplace=True) \n",
    "dadosTratados[var].replace(to_replace =['B'], \n",
    "                 value =\"Sim\",inplace=True) \n",
    "var = 'Q022'\n",
    "dadosTratados[var].replace(to_replace =['A'], \n",
    "                 value ='Não',inplace=True) \n",
    "dadosTratados[var].replace(to_replace =['B','C','D','E'], \n",
    "                 value ='Sim',inplace=True) \n",
    "var = 'Q024'\n",
    "dadosTratados[var].replace(to_replace =['A'], \n",
    "                 value ='Não',inplace=True) \n",
    "dadosTratados[var].replace(to_replace =['B','C','D','E'], \n",
    "                 value ='Sim',inplace=True) \n",
    "\n",
    "\n",
    "\n",
    "var = 'Q009'\n",
    "dadosTratados[var].replace(to_replace =['A'], \n",
    "                 value =0,inplace=True) \n",
    "dadosTratados[var].replace(to_replace =['B'], \n",
    "                 value =1,inplace=True) \n",
    "dadosTratados[var].replace(to_replace =['C'], \n",
    "                 value =2,inplace=True)\n",
    "dadosTratados[var].replace(to_replace =['D'], \n",
    "                 value =3,inplace=True)\n",
    "dadosTratados[var].replace(to_replace =['E'], \n",
    "                 value =4,inplace=True)\n",
    "\n",
    "dadosTratados[\"anosEstudoPai\"] = dadosTratados['Q001']\n",
    "var = \"anosEstudoPai\"\n",
    "\n",
    "dadosTratados[var].replace(to_replace =['A','H'], \n",
    "                 value =0,inplace=True) \n",
    "dadosTratados[var].replace(to_replace =['B'], \n",
    "                 value =4,inplace=True) \n",
    "dadosTratados[var].replace(to_replace =['C'], \n",
    "                 value =5,inplace=True)\n",
    "dadosTratados[var].replace(to_replace =['D'], \n",
    "                 value =9,inplace=True)\n",
    "dadosTratados[var].replace(to_replace =['E'], \n",
    "                 value =12,inplace=True)\n",
    "dadosTratados[var].replace(to_replace =['F'], \n",
    "                 value =16,inplace=True) \n",
    "dadosTratados[var].replace(to_replace =['G'], \n",
    "                 value =18,inplace=True) \n",
    "var = 'Q001'\n",
    "#dadosTratados[var].replace(to_replace =['A'], \n",
    "#                 value ='NaoEstudou',inplace=True) \n",
    "dadosTratados[var].replace(to_replace =['A','B','C'], \n",
    "                 value ='FundamentalIncompleto',inplace=True) \n",
    "dadosTratados[var].replace(to_replace =['D'], \n",
    "                 value ='FundamentalCompleto',inplace=True)\n",
    "dadosTratados[var].replace(to_replace =['E'], \n",
    "                 value ='Medio',inplace=True)\n",
    "dadosTratados[var].replace(to_replace =['F', 'G'], \n",
    "                 value ='Superior',inplace=True)\n",
    "dadosTratados[var].replace(to_replace =['H'], \n",
    "                 value ='NaoSabe',inplace=True)\n",
    "\n",
    "var = 'Q002'\n",
    "#Ensino Fundamental\n",
    "#dadosTratados[var].replace(to_replace =['B','C','D'], \n",
    "#                 value =1,inplace=True) \n",
    "#Ensino Médio\n",
    "#dadosTratados[var].replace(to_replace =['E'], \n",
    "#                 value =2,inplace=True) \n",
    "#Ensino Superior, Pós Graduação\n",
    "#dadosTratados[var].replace(to_replace =['F','G'], \n",
    "#                 value =3,inplace=True)\n",
    "#Não sabe, Não estudou\n",
    "#dadosTratados[var].replace(to_replace =['A','H'], \n",
    "#                 value =0,inplace=True)\n",
    "\n",
    "\n",
    "dadosTratados[\"anosEstudoMae\"] = dadosTratados['Q002']\n",
    "\n",
    "var = \"anosEstudoMae\"\n",
    "\n",
    "dadosTratados[var].replace(to_replace =['A','H'], \n",
    "                 value =0,inplace=True) \n",
    "dadosTratados[var].replace(to_replace =['B'], \n",
    "                 value =4,inplace=True) \n",
    "dadosTratados[var].replace(to_replace =['C'], \n",
    "                 value =5,inplace=True)\n",
    "dadosTratados[var].replace(to_replace =['D'], \n",
    "                 value =9,inplace=True)\n",
    "dadosTratados[var].replace(to_replace =['E'], \n",
    "                 value =12,inplace=True)\n",
    "dadosTratados[var].replace(to_replace =['F'], \n",
    "                 value =16,inplace=True) \n",
    "dadosTratados[var].replace(to_replace =['G'], \n",
    "                 value =18,inplace=True) \n",
    "\n",
    "var = 'Q002'\n",
    "#dadosTratados[var].replace(to_replace =['A'], \n",
    "#                 value ='NaoEstudou',inplace=True) \n",
    "dadosTratados[var].replace(to_replace =['A','B','C'], \n",
    "                 value ='FundamentalIncompleto',inplace=True) \n",
    "dadosTratados[var].replace(to_replace =['D'], \n",
    "                 value ='FundamentalCompleto',inplace=True)\n",
    "dadosTratados[var].replace(to_replace =['E'], \n",
    "                 value ='Medio',inplace=True)\n",
    "dadosTratados[var].replace(to_replace =['F', 'G'], \n",
    "                 value ='Superior',inplace=True)\n",
    "dadosTratados[var].replace(to_replace =['H'], \n",
    "                 value ='NaoSabe',inplace=True)\n",
    "\n",
    "#MediaAnosDeEstudo = dadosTratados[dadosTratados.Q002 != 'H'].Q002.mean()\n",
    "\n",
    "\n",
    "var = 'Q003'\n",
    "dadosTratados[var].replace(to_replace =['A','B','C'], \n",
    "                 value =\"Grupo(A,B,C)\",inplace=True) \n",
    "dadosTratados[var].replace(to_replace =['D','E'], \n",
    "                 value =\"Grupo(D,E)\",inplace=True) \n",
    "dadosTratados[var].replace(to_replace =['F'], \n",
    "                 value =\"NãoSabe\",inplace=True)\n",
    "\n",
    "\n",
    "var = 'Q004'\n",
    "dadosTratados[var].replace(to_replace =['A','B','C'], \n",
    "                 value =\"Grupo(A,B,C)\",inplace=True) \n",
    "dadosTratados[var].replace(to_replace =['D','E'], \n",
    "                 value =\"Grupo(D,E)\",inplace=True) \n",
    "dadosTratados[var].replace(to_replace =['F'], \n",
    "                 value =\"NãoSabe\",inplace=True)\n",
    "\n",
    "#var = 'TP_SEXO'\n",
    "#dadosTratados[var].replace(to_replace =['F'],value =1,inplace=True) \n",
    "#dadosTratados[var].replace(to_replace =['M'],value =0,inplace=True) \n",
    "\n",
    "var = 'TP_COR_RACA'\n",
    "dadosTratados[var].replace(to_replace =[0],value ='NaoDeclarado',inplace=True) \n",
    "dadosTratados[var].replace(to_replace =[1],value ='Branco',inplace=True) \n",
    "dadosTratados[var].replace(to_replace =[2],value ='Preta',inplace=True) \n",
    "dadosTratados[var].replace(to_replace =[3],value ='Parda',inplace=True) \n",
    "dadosTratados[var].replace(to_replace =[4],value ='Amarelo',inplace=True) \n",
    "dadosTratados[var].replace(to_replace =[5],value ='Indigena',inplace=True) \n",
    "\n",
    "\n",
    "var = 'TP_LOCALIZACAO_ESC'\n",
    "dadosTratados[var].replace(to_replace =[2],value ='Rural',inplace=True) \n",
    "dadosTratados[var].replace(to_replace =[1],value ='Urbano',inplace=True) \n",
    "\n"
   ]
  },
  {
   "cell_type": "code",
   "execution_count": 30,
   "metadata": {},
   "outputs": [],
   "source": [
    "var = 'TP_COR_RACA'\n",
    "dadosTratados['COR_RACA'] = dadosTratados['TP_COR_RACA']\n",
    "dadosTratados['COR_RACA'].replace(to_replace =['Parda','Preta','Amarelo','Indigena'],value ='NaoBranco',inplace=True) \n",
    "\n"
   ]
  },
  {
   "cell_type": "code",
   "execution_count": 31,
   "metadata": {
    "colab": {},
    "colab_type": "code",
    "id": "OCqz72fCNefL",
    "outputId": "eee83c2d-c053-4ca0-de6b-2c43dc544b90"
   },
   "outputs": [],
   "source": [
    "#Adicionando nova coluna quarto por pessoas e removendo as correspondentes \n",
    "pessoas = 'Q005' \n",
    "quartos = 'Q009'\n",
    "\n",
    "\n",
    "dadosTratados[quartos].replace(to_replace =[0], \n",
    "                 value =1,inplace=True) \n",
    "\n",
    "dadosTratados['RazaoPessoasQuarto'] = (dadosTratados[pessoas]/dadosTratados[quartos])\n",
    "\n",
    "precision = 2 \n",
    "\n",
    "dadosTratados['RazaoPessoasQuarto'] = dadosTratados['RazaoPessoasQuarto'].round(decimals = precision)\n",
    "\n",
    "# dadosTratados.drop([pessoas], axis=1, inplace=True) \n",
    "# dadosTratados.drop([quartos], axis=1, inplace=True)\n",
    "\n",
    "bins = [0,1,2,3,4,20]\n",
    "dadosTratados['PessoasPorQuarto'] = pd.cut(dadosTratados['RazaoPessoasQuarto'],bins)"
   ]
  },
  {
   "cell_type": "code",
   "execution_count": 32,
   "metadata": {
    "colab": {},
    "colab_type": "code",
    "id": "z0NIhoIeNefO"
   },
   "outputs": [],
   "source": [
    "#Não pegando notas que por algum motivo tem valor zero\n",
    "dadosTratados = dadosTratados.query(\"NU_NOTA_CN != 0 and NU_NOTA_CH != 0 and NU_NOTA_LC != 0 and NU_NOTA_MT != 0 and NU_NOTA_REDACAO != 0\")\n",
    "\n"
   ]
  },
  {
   "cell_type": "code",
   "execution_count": 35,
   "metadata": {},
   "outputs": [
    {
     "name": "stdout",
     "output_type": "stream",
     "text": [
      "<class 'pandas.core.frame.DataFrame'>\n",
      "Int64Index: 879700 entries, 0 to 1147411\n",
      "Data columns (total 48 columns):\n",
      " #   Column                  Non-Null Count   Dtype   \n",
      "---  ------                  --------------   -----   \n",
      " 0   NU_INSCRICAO            879700 non-null  int64   \n",
      " 1   Q001                    879700 non-null  object  \n",
      " 2   Q002                    879700 non-null  object  \n",
      " 3   Q003                    879700 non-null  object  \n",
      " 4   Q004                    879700 non-null  object  \n",
      " 5   Q005                    879700 non-null  int64   \n",
      " 6   Q007                    879700 non-null  object  \n",
      " 7   Q008                    879700 non-null  object  \n",
      " 8   Q009                    879700 non-null  int64   \n",
      " 9   Q010                    879700 non-null  object  \n",
      " 10  Q011                    879700 non-null  object  \n",
      " 11  Q012                    879700 non-null  object  \n",
      " 12  Q013                    879700 non-null  object  \n",
      " 13  Q014                    879700 non-null  object  \n",
      " 14  Q015                    879700 non-null  object  \n",
      " 15  Q016                    879700 non-null  object  \n",
      " 16  Q017                    879700 non-null  object  \n",
      " 17  Q018                    879700 non-null  object  \n",
      " 18  Q019                    879700 non-null  object  \n",
      " 19  Q020                    879700 non-null  object  \n",
      " 20  Q021                    879700 non-null  object  \n",
      " 21  Q022                    879700 non-null  object  \n",
      " 22  Q023                    879700 non-null  object  \n",
      " 23  Q024                    879700 non-null  object  \n",
      " 24  Q025                    879700 non-null  object  \n",
      " 25  NU_IDADE                879700 non-null  int64   \n",
      " 26  TP_SEXO                 879700 non-null  object  \n",
      " 27  TP_COR_RACA             879700 non-null  object  \n",
      " 28  CO_ESCOLA               879700 non-null  float64 \n",
      " 29  CO_MUNICIPIO_ESC        879700 non-null  float64 \n",
      " 30  NO_MUNICIPIO_ESC        879700 non-null  object  \n",
      " 31  SG_UF_ESC               879700 non-null  object  \n",
      " 32  TP_DEPENDENCIA_ADM_ESC  879700 non-null  object  \n",
      " 33  TP_LOCALIZACAO_ESC      879700 non-null  object  \n",
      " 34  CO_UF_ESC               879700 non-null  float64 \n",
      " 35  NU_NOTA_CN              879700 non-null  float64 \n",
      " 36  NU_NOTA_CH              879700 non-null  float64 \n",
      " 37  NU_NOTA_LC              879700 non-null  float64 \n",
      " 38  NU_NOTA_MT              879700 non-null  float64 \n",
      " 39  TP_LINGUA               879700 non-null  int64   \n",
      " 40  NU_NOTA_REDACAO         879700 non-null  float64 \n",
      " 41  RendaMaxima             879700 non-null  int64   \n",
      " 42  ClasseSocial            879700 non-null  object  \n",
      " 43  anosEstudoPai           879700 non-null  int64   \n",
      " 44  anosEstudoMae           879700 non-null  int64   \n",
      " 45  COR_RACA                879700 non-null  object  \n",
      " 46  RazaoPessoasQuarto      879700 non-null  float64 \n",
      " 47  PessoasPorQuarto        879700 non-null  category\n",
      "dtypes: category(1), float64(9), int64(8), object(30)\n",
      "memory usage: 323.0+ MB\n"
     ]
    }
   ],
   "source": [
    "dadosTratados.info()"
   ]
  },
  {
   "cell_type": "code",
   "execution_count": 36,
   "metadata": {},
   "outputs": [],
   "source": [
    "col = dadosTratados[['NU_NOTA_CH','NU_NOTA_LC','NU_NOTA_MT','NU_NOTA_REDACAO','NU_NOTA_CN']]\n",
    "dadosTratados['NU_MEDIA'] = col.mean(axis=1)"
   ]
  },
  {
   "cell_type": "code",
   "execution_count": null,
   "metadata": {},
   "outputs": [],
   "source": [
    "dadosTratados['TP_LINGUA'].replace(0, \"Inglês\", inplace=True)\n",
    "dadosTratados['TP_LINGUA'].replace(1, \"Espanhol\", inplace=True)\n",
    "dadosTratados.rename(columns={\"Q024\" : \"Tem Computador\"}, inplace=True)\n",
    "dadosTratados.rename(columns={\"Q022\" : \"Tem Celular\"}, inplace=True)\n",
    "dadosTratados.rename(columns={\"Q025\" : \"Tem Internet\"}, inplace=True)\n",
    "dadosTratados.rename(columns={\"Q001\" : \"Estudo Pai\"}, inplace=True)\n",
    "dadosTratados.rename(columns={\"Q002\" : \"Estudo Mãe\"}, inplace=True)\n",
    "dadosTratados.rename(columns={\"Q003\" : \"Trabalho Pai\"}, inplace=True)\n",
    "dadosTratados.rename(columns={\"Q004\" : \"Trabalho Mãe\"}, inplace=True)\n",
    "dadosTratados.rename(columns={\"Q005\" : \"Pessoas Residencia\"}, inplace=True)\n",
    "dadosTratados.rename(columns={\"Q007\" : \"Tem Empregada\"}, inplace=True)\n",
    "dadosTratados.rename(columns={\"Q008\" : \"Tem Empregada\"}, inplace=True)"
   ]
  },
  {
   "cell_type": "code",
   "execution_count": 18,
   "metadata": {
    "colab": {},
    "colab_type": "code",
    "id": "f9uYBXS0NefR"
   },
   "outputs": [],
   "source": [
    "\n",
    "\n",
    "# #calculado usando w = (maiorV alor − menorV alor)/4\n",
    "# max = dadosEnem['NU_MEDIA'].max() \n",
    "# min = dadosEnem['NU_MEDIA'].min() \n",
    "# w = (max-min)/4\n",
    "\n",
    "# print(w)\n",
    "\n",
    "\n",
    "\n",
    "# bins = [0,438.65,576.04,713.43,1000]\n",
    "# dadosEnem['MEDIA_FAIXA'] = pd.cut(dadosEnem['NU_MEDIA'],bins,right = True)\n",
    "# dadosEnem['MEDIA_FAIXA'].value_counts()"
   ]
  },
  {
   "cell_type": "code",
   "execution_count": 37,
   "metadata": {},
   "outputs": [],
   "source": [
    "notas = dadosTratados[['NU_NOTA_MT','NU_NOTA_CH','NU_NOTA_LC','NU_NOTA_CN','NU_NOTA_REDACAO']]\n",
    "notas.to_csv('Brasil/notasParaClusterizaca2019.csv',encoding='latin1', index=False,sep=';')"
   ]
  },
  {
   "cell_type": "code",
   "execution_count": 38,
   "metadata": {},
   "outputs": [],
   "source": [
    "dadosTratados.to_csv('Brasil/MicrodadosBrasilTratado2019.csv',encoding='latin1', index=False,sep=';')"
   ]
  },
  {
   "cell_type": "code",
   "execution_count": null,
   "metadata": {},
   "outputs": [],
   "source": []
  }
 ],
 "metadata": {
  "colab": {
   "name": "Exemplo Leitura Microdados Enem por Escola.ipynb",
   "provenance": []
  },
  "hide_input": false,
  "kernelspec": {
   "display_name": "Python 3",
   "language": "python",
   "name": "python3"
  },
  "language_info": {
   "codemirror_mode": {
    "name": "ipython",
    "version": 3
   },
   "file_extension": ".py",
   "mimetype": "text/x-python",
   "name": "python",
   "nbconvert_exporter": "python",
   "pygments_lexer": "ipython3",
   "version": "3.7.6"
  }
 },
 "nbformat": 4,
 "nbformat_minor": 1
}
